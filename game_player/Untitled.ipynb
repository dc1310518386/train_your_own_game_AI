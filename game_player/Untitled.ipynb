{
 "cells": [
  {
   "cell_type": "code",
   "execution_count": 1,
   "id": "271d76f4",
   "metadata": {},
   "outputs": [
    {
     "name": "stdout",
     "output_type": "stream",
     "text": [
      "识别结果: 5440\n"
     ]
    }
   ],
   "source": [
    "import cv2\n",
    "import pytesseract\n",
    "\n",
    "# 配置 Tesseract 的路径\n",
    "pytesseract.pytesseract.tesseract_cmd = r'C:\\Program Files\\Tesseract-OCR\\tesseract.exe'\n",
    "\n",
    "# 加载图像\n",
    "image_path = 'test1.png'\n",
    "image = cv2.imread(image_path)\n",
    "\n",
    "\n",
    "gray = cv2.Canny(cv2.GaussianBlur(image,(3,3),0), 0, 100)\n",
    "\n",
    "# 二值化处理\n",
    "_, binary = cv2.threshold(gray, 128, 255, cv2.THRESH_BINARY)\n",
    "\n",
    "# 使用 Tesseract 进行识别\n",
    "digit_text = pytesseract.image_to_string(binary, config='--psm 6 digits')\n",
    "\n",
    "print('识别结果:', digit_text.strip())\n",
    "\n",
    "cv2.imshow('Processed Image', gray)\n",
    "cv2.waitKey(0)\n",
    "cv2.destroyAllWindows()\n"
   ]
  },
  {
   "cell_type": "code",
   "execution_count": 4,
   "id": "d1817968",
   "metadata": {},
   "outputs": [
    {
     "name": "stdout",
     "output_type": "stream",
     "text": [
      "识别结果: \n"
     ]
    }
   ],
   "source": [
    "import cv2\n",
    "import pytesseract\n",
    "import numpy as np\n",
    "\n",
    "def preprocess_image(img_path):\n",
    "    # 读取图像\n",
    "    img = cv2.imread(img_path)\n",
    "\n",
    "    # 转换为灰度图\n",
    "    gray = cv2.cvtColor(img, cv2.COLOR_BGR2GRAY)\n",
    "\n",
    "    # 自适应二值化，提升字体对比\n",
    "    binary = cv2.adaptiveThreshold(\n",
    "        gray, 255,\n",
    "        cv2.ADAPTIVE_THRESH_GAUSSIAN_C,\n",
    "        cv2.THRESH_BINARY_INV,  # 反色以突出字体\n",
    "        11, 2\n",
    "    )\n",
    "\n",
    "    # 去除边框：通过形态学腐蚀减小字体外边框\n",
    "    kernel = cv2.getStructuringElement(cv2.MORPH_RECT, (3, 3))\n",
    "    cleaned = cv2.erode(binary, kernel, iterations=1)\n",
    "\n",
    "    return cleaned\n",
    "\n",
    "def recognize_text(img):\n",
    "    # 配置 Tesseract 路径\n",
    "    pytesseract.pytesseract.tesseract_cmd = r'C:\\Program Files\\Tesseract-OCR\\tesseract.exe'\n",
    "\n",
    "    # 放大图像，提升 OCR 效果\n",
    "    img_resized = cv2.resize(img, None, fx=2, fy=2, interpolation=cv2.INTER_LINEAR)\n",
    "\n",
    "    # 使用 Tesseract 识别\n",
    "    config = '--psm 7 -c tessedit_char_whitelist=\"0123456789\"'\n",
    "    digit_text = pytesseract.image_to_string(img_resized, config=config)\n",
    "\n",
    "    return digit_text.strip()\n",
    "\n",
    "# 主程序\n",
    "if __name__ == \"__main__\":\n",
    "    # 预处理图片\n",
    "    processed_img = preprocess_image('test1.png')\n",
    "\n",
    "    # 识别数字\n",
    "    result = recognize_text(processed_img)\n",
    "    print(\"识别结果:\", result)\n",
    "\n",
    "    # 显示处理后的图像（调试用）\n",
    "    cv2.imshow('Processed Image', processed_img)\n",
    "    cv2.waitKey(0)\n",
    "    cv2.destroyAllWindows()\n"
   ]
  },
  {
   "cell_type": "code",
   "execution_count": 5,
   "id": "ba707d00",
   "metadata": {},
   "outputs": [
    {
     "name": "stdout",
     "output_type": "stream",
     "text": [
      "识别结果: 448\n"
     ]
    }
   ],
   "source": [
    "import cv2\n",
    "import pytesseract\n",
    "\n",
    "def preprocess_image(img_path):\n",
    "    # 读取图像\n",
    "    img = cv2.imread(img_path)\n",
    "\n",
    "    # 转换为灰度图\n",
    "    gray = cv2.cvtColor(img, cv2.COLOR_BGR2GRAY)\n",
    "\n",
    "    # 提升对比度\n",
    "    gray = cv2.convertScaleAbs(gray, alpha=1.5, beta=0)\n",
    "\n",
    "    # 二值化（使用 OTSU 自动确定阈值）\n",
    "    _, binary = cv2.threshold(gray, 0, 255, cv2.THRESH_BINARY + cv2.THRESH_OTSU)\n",
    "\n",
    "    return binary\n",
    "\n",
    "def recognize_text(img):\n",
    "    # 配置 Tesseract 路径\n",
    "    pytesseract.pytesseract.tesseract_cmd = r'C:\\Program Files\\Tesseract-OCR\\tesseract.exe'\n",
    "\n",
    "    # 放大图像，提升 OCR 效果\n",
    "    img_resized = cv2.resize(img, None, fx=2, fy=2, interpolation=cv2.INTER_LINEAR)\n",
    "\n",
    "    # 使用 Tesseract 识别\n",
    "    config = '--psm 6 -c tessedit_char_whitelist=\"0123456789\"'\n",
    "    digit_text = pytesseract.image_to_string(img_resized, config=config)\n",
    "\n",
    "    return digit_text.strip()\n",
    "\n",
    "# 主程序\n",
    "if __name__ == \"__main__\":\n",
    "    # 预处理图片\n",
    "    processed_img = preprocess_image('test1.png')\n",
    "\n",
    "    # 识别数字\n",
    "    result = recognize_text(processed_img)\n",
    "    print(\"识别结果:\", result)\n",
    "\n",
    "    # 显示处理后的图像（调试用）\n",
    "    cv2.imshow('Processed Image', processed_img)\n",
    "    cv2.waitKey(0)\n",
    "    cv2.destroyAllWindows()\n"
   ]
  },
  {
   "cell_type": "code",
   "execution_count": null,
   "id": "f55eb98d",
   "metadata": {},
   "outputs": [],
   "source": []
  }
 ],
 "metadata": {
  "kernelspec": {
   "display_name": "Python 3 (ipykernel)",
   "language": "python",
   "name": "python3"
  },
  "language_info": {
   "codemirror_mode": {
    "name": "ipython",
    "version": 3
   },
   "file_extension": ".py",
   "mimetype": "text/x-python",
   "name": "python",
   "nbconvert_exporter": "python",
   "pygments_lexer": "ipython3",
   "version": "3.11.7"
  }
 },
 "nbformat": 4,
 "nbformat_minor": 5
}
